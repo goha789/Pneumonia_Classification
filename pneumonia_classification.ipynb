{
 "cells": [
  {
   "cell_type": "markdown",
   "metadata": {
    "collapsed": true
   },
   "source": [
    "# Pneumonia Classification\n",
    "Project by Maria Kaltenbrunner and Mohammad Goha\n",
    "<br>for Computer Vision (FH Technikum) Fall 2020"
   ]
  },
  {
   "cell_type": "markdown",
   "metadata": {},
   "source": [
    "## What is our project?\n",
    "We want to train a model which is able to classify y-ray images of lungs into pneumonic and non-pneumonic. "
   ]
  },
  {
   "cell_type": "markdown",
   "metadata": {},
   "source": [
    "## What is Pneumonia?"
   ]
  },
  {
   "cell_type": "markdown",
   "metadata": {},
   "source": [
    "## Importing the necessary libraries"
   ]
  },
  {
   "cell_type": "code",
   "execution_count": 3,
   "metadata": {},
   "outputs": [
    {
     "name": "stderr",
     "output_type": "stream",
     "text": [
      "Using TensorFlow backend.\n"
     ]
    }
   ],
   "source": [
    "import os\n",
    "import matplotlib as plt\n",
    "import numpy as np\n",
    "import pandas as pd\n",
    "import keras\n",
    "import cv2\n",
    "from sklearn.model_selection import train_test_split"
   ]
  },
  {
   "cell_type": "markdown",
   "metadata": {},
   "source": [
    "## Description of the Pneumonia Dataset\n",
    "\n",
    "![0_basic_data_structure.png](documentation/images/0_basic_data_structure.png)\n"
   ]
  },
  {
   "cell_type": "markdown",
   "metadata": {},
   "source": [
    "## Loading the Dataset"
   ]
  },
  {
   "cell_type": "code",
   "execution_count": 48,
   "metadata": {},
   "outputs": [],
   "source": [
    "def load_images(data_dir, folder, img_size, color = False):\n",
    "    \"\"\"\n",
    "    Loads images from a folder, resizes them and stores them in a numpy array.\n",
    "   \n",
    "    Parameters:\n",
    "    data_dir -- string, the path to to the main data folder\n",
    "    img_size: integer, to this value the loaded images are resized before returned\n",
    "    \n",
    "    Returns:\n",
    "    data -- list of numpy arrays, containing data and labels of train, test and validation\n",
    "    \"\"\"\n",
    "    data_dir = os.path.join(data_dir, folder)\n",
    "    label_folders = os.listdir(data_dir)\n",
    "    colors = {True: cv2.IMREAD_COLOR, False: cv2.IMREAD_GRAYSCALE}\n",
    "\n",
    "    images_original = []\n",
    "    string_labels = []\n",
    "    for folder in label_folders:\n",
    "        folder_path = os.path.join(data_dir, folder)\n",
    "        filenames = os.listdir(folder_path)\n",
    "        filepaths = [os.path.join(folder_path, name) for name in filenames]\n",
    "        images_original += [cv2.imread(file, colors[color]) for file in filepaths]\n",
    "        images_resized = [cv2.resize(img, (img_size, img_size)) for img in images_original]\n",
    "        string_labels += [folder for _ in filenames]\n",
    "        \n",
    "    return (np.array(images_resized), np.array(string_labels))"
   ]
  },
  {
   "cell_type": "code",
   "execution_count": 49,
   "metadata": {},
   "outputs": [],
   "source": [
    "data_dir = 'data'\n",
    "folders = os.listdir(data_dir)\n",
    "\n",
    "train_X, train_y = load_images(data_dir, folders[0], 100)\n",
    "test_X, test_y =  load_images(data_dir, folders[1], 100)\n",
    "val_X, val_y = load_images(data_dir, folders[2], 100)"
   ]
  },
  {
   "cell_type": "code",
   "execution_count": 53,
   "metadata": {},
   "outputs": [
    {
     "name": "stdout",
     "output_type": "stream",
     "text": [
      "(624, 100, 100)\n",
      "(5216, 100, 100)\n",
      "(16, 100, 100)\n",
      "(624,)\n",
      "(5216,)\n",
      "(16,)\n",
      "['NORMAL' 'PNEUMONIA']\n",
      "['NORMAL' 'PNEUMONIA']\n",
      "['NORMAL' 'PNEUMONIA']\n"
     ]
    }
   ],
   "source": [
    "print(train_X.shape)\n",
    "print(test_X.shape)\n",
    "print(val_X.shape)\n",
    "\n",
    "print(train_y.shape)\n",
    "print(test_y.shape)\n",
    "print(val_y.shape)\n",
    "\n",
    "print(np.unique(train_y))\n",
    "print(np.unique(test_y))\n",
    "print(np.unique(val_y))"
   ]
  },
  {
   "cell_type": "code",
   "execution_count": null,
   "metadata": {},
   "outputs": [],
   "source": []
  },
  {
   "cell_type": "markdown",
   "metadata": {},
   "source": [
    "## Exploring the Data"
   ]
  },
  {
   "cell_type": "code",
   "execution_count": null,
   "metadata": {},
   "outputs": [],
   "source": []
  },
  {
   "cell_type": "code",
   "execution_count": null,
   "metadata": {},
   "outputs": [],
   "source": [
    "pip freeze > requirements.txt"
   ]
  },
  {
   "cell_type": "markdown",
   "metadata": {},
   "source": [
    "## Sources\n",
    "* [Kaggle: Chest X-Tay Pneumonia (Data)](https://www.kaggle.com/paultimothymooney/chest-xray-pneumonia)\n",
    "* [Kaggle: Pneumonia Detection using CNN](https://www.kaggle.com/madz2000/pneumonia-detection-using-cnn-92-6-accuracy)"
   ]
  }
 ],
 "metadata": {
  "kernelspec": {
   "display_name": "Python 3",
   "language": "python",
   "name": "python3"
  },
  "language_info": {
   "codemirror_mode": {
    "name": "ipython",
    "version": 3
   },
   "file_extension": ".py",
   "mimetype": "text/x-python",
   "name": "python",
   "nbconvert_exporter": "python",
   "pygments_lexer": "ipython3",
   "version": "3.7.0"
  }
 },
 "nbformat": 4,
 "nbformat_minor": 1
}
